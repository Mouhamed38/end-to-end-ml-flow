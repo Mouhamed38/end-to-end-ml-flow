{
 "cells": [
  {
   "cell_type": "code",
   "execution_count": 1,
   "id": "4b5a2a1b",
   "metadata": {},
   "outputs": [],
   "source": [
    "d={\"key\":\"value\",\"key2\":\"value2\"}"
   ]
  },
  {
   "cell_type": "code",
   "execution_count": 2,
   "id": "63d665b7",
   "metadata": {},
   "outputs": [
    {
     "data": {
      "text/plain": [
       "'value'"
      ]
     },
     "execution_count": 2,
     "metadata": {},
     "output_type": "execute_result"
    }
   ],
   "source": [
    "d[\"key\"]"
   ]
  },
  {
   "cell_type": "code",
   "execution_count": 5,
   "id": "b08e388f",
   "metadata": {},
   "outputs": [
    {
     "data": {
      "text/plain": [
       "'value'"
      ]
     },
     "execution_count": 5,
     "metadata": {},
     "output_type": "execute_result"
    }
   ],
   "source": [
    "d2.key"
   ]
  },
  {
   "cell_type": "code",
   "execution_count": 4,
   "id": "c191dc5a",
   "metadata": {},
   "outputs": [
    {
     "data": {
      "text/plain": [
       "ConfigBox({'key': 'value', 'key2': 'value2'})"
      ]
     },
     "execution_count": 4,
     "metadata": {},
     "output_type": "execute_result"
    }
   ],
   "source": [
    "from box import ConfigBox\n",
    "d2=ConfigBox(d)\n",
    "d2"
   ]
  }
 ],
 "metadata": {
  "kernelspec": {
   "display_name": "mlproject",
   "language": "python",
   "name": "python3"
  },
  "language_info": {
   "codemirror_mode": {
    "name": "ipython",
    "version": 3
   },
   "file_extension": ".py",
   "mimetype": "text/x-python",
   "name": "python",
   "nbconvert_exporter": "python",
   "pygments_lexer": "ipython3",
   "version": "3.10.18"
  }
 },
 "nbformat": 4,
 "nbformat_minor": 5
}
